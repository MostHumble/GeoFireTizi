{
  "nbformat": 4,
  "nbformat_minor": 0,
  "metadata": {
    "colab": {
      "provenance": [],
      "authorship_tag": "ABX9TyMLAYOyciqphphbP26TayiR",
      "include_colab_link": true
    },
    "kernelspec": {
      "name": "python3",
      "display_name": "Python 3"
    },
    "language_info": {
      "name": "python"
    }
  },
  "cells": [
    {
      "cell_type": "markdown",
      "metadata": {
        "id": "view-in-github",
        "colab_type": "text"
      },
      "source": [
        "<a href=\"https://colab.research.google.com/github/MostHumble/GeoFireTizi/blob/main/GeoFireTizi.ipynb\" target=\"_parent\"><img src=\"https://colab.research.google.com/assets/colab-badge.svg\" alt=\"Open In Colab\"/></a>"
      ]
    },
    {
      "cell_type": "code",
      "execution_count": 5,
      "metadata": {
        "id": "sn5SEs2l0kCn"
      },
      "outputs": [],
      "source": [
        "import pandas as pd\n",
        "import geopandas as gpd\n",
        "import ee\n",
        "from IPython.display import Image"
      ]
    },
    {
      "cell_type": "code",
      "source": [
        "# You'll need to have access to the Earth Engine api\n",
        "ee.Authenticate() "
      ],
      "metadata": {
        "id": "SCRi_xex5QJr"
      },
      "execution_count": null,
      "outputs": []
    },
    {
      "cell_type": "code",
      "source": [
        "ee.Initialize()"
      ],
      "metadata": {
        "id": "ehMl2A4A5-N2"
      },
      "execution_count": 7,
      "outputs": []
    },
    {
      "cell_type": "code",
      "source": [
        "lat = 36.704642 # Tizi-Ouzou location\n",
        "lon = 4.052215\n",
        "# point of interest as an ee.Geometry\n",
        "poi = ee.Geometry.Point(lon,lat)\n",
        "\n",
        "# start date of range to filter for\n",
        "start_date = '2021-05-01'\n",
        "\n",
        "# end date\n",
        "end_date = '2022-07-01'"
      ],
      "metadata": {
        "id": "GPild3PW7YTN"
      },
      "execution_count": 132,
      "outputs": []
    },
    {
      "cell_type": "code",
      "source": [
        "# getting the data\n",
        "landsat = ee.ImageCollection(\"LANDSAT/LC08/C02/T1_L2\")\\\n",
        "            .filterBounds(poi)\\\n",
        "            .filterDate(start_date,end_date) "
      ],
      "metadata": {
        "id": "26pHYAx88WPa"
      },
      "execution_count": 133,
      "outputs": []
    },
    {
      "cell_type": "code",
      "source": [
        "print('Total number:', landsat.size().getInfo()) "
      ],
      "metadata": {
        "colab": {
          "base_uri": "https://localhost:8080/"
        },
        "id": "DlsaalSS9jfw",
        "outputId": "dbf12cda-4e29-4bf4-8bb2-39c117cbfd13"
      },
      "execution_count": 134,
      "outputs": [
        {
          "output_type": "stream",
          "name": "stdout",
          "text": [
            "Total number: 51\n"
          ]
        }
      ]
    },
    {
      "cell_type": "code",
      "source": [
        "landsat.first().getInfo()"
      ],
      "metadata": {
        "id": "VkPl4VHb-FJL"
      },
      "execution_count": null,
      "outputs": []
    },
    {
      "cell_type": "code",
      "source": [
        "# cloud coverage aka how \"good\" is the picture\n",
        "landsat.first().get('CLOUD_COVER').getInfo() "
      ],
      "metadata": {
        "colab": {
          "base_uri": "https://localhost:8080/"
        },
        "id": "H8t2tQ4g-Ubr",
        "outputId": "b952651d-5595-4518-e0b1-53cff46fd89a"
      },
      "execution_count": 136,
      "outputs": [
        {
          "output_type": "execute_result",
          "data": {
            "text/plain": [
              "58.41"
            ]
          },
          "metadata": {},
          "execution_count": 136
        }
      ]
    },
    {
      "cell_type": "code",
      "source": [
        "# date it was taken \n",
        "landsat.first().get('DATE_ACQUIRED').getInfo()  "
      ],
      "metadata": {
        "colab": {
          "base_uri": "https://localhost:8080/",
          "height": 36
        },
        "id": "J8gBtH13-ZrM",
        "outputId": "3efc1a7c-890c-43c6-fd32-aea6cb58beb8"
      },
      "execution_count": 137,
      "outputs": [
        {
          "output_type": "execute_result",
          "data": {
            "text/plain": [
              "'2021-05-10'"
            ],
            "application/vnd.google.colaboratory.intrinsic+json": {
              "type": "string"
            }
          },
          "metadata": {},
          "execution_count": 137
        }
      ]
    },
    {
      "cell_type": "code",
      "source": [
        "# bands of the data from diffrent wavelenghts\n",
        "landsat.first().bandNames().getInfo()"
      ],
      "metadata": {
        "id": "4DEydL8W-6wb"
      },
      "execution_count": null,
      "outputs": []
    },
    {
      "cell_type": "code",
      "source": [
        "# put the images in a list\n",
        "landsat_list = landsat.toList(landsat.size())"
      ],
      "metadata": {
        "id": "xkHDo_rI_Qm3"
      },
      "execution_count": 141,
      "outputs": []
    },
    {
      "cell_type": "code",
      "source": [
        "# set some parameters for the images\n",
        "parameters = {\n",
        "                'min': 7000,\n",
        "                'max': 16000,\n",
        "                'dimensions': 800, # square size in pixels\n",
        "                'bands': ['SR_B4', 'SR_B3', 'SR_B2'] # bands to display (r,g,b)\n",
        "             }"
      ],
      "metadata": {
        "id": "GZEODZYH_cEg"
      },
      "execution_count": 140,
      "outputs": []
    },
    {
      "cell_type": "code",
      "source": [
        "# create an empty data container\n",
        "data = []\n",
        "\n",
        "# loop through each image and display it\n",
        "for i in range(landsat.size().getInfo()):\n",
        "\n",
        "    # when was this image taken?\n",
        "    date = ee.Image(landsat_list.get(i)).get('DATE_ACQUIRED').getInfo()\n",
        "    \n",
        "    # cloud cover\n",
        "    cloud = ee.Image(landsat_list.get(i)).get('CLOUD_COVER').getInfo()\n",
        "    \n",
        "    # print the image info\n",
        "    print('Image #',i,date,'Cloud cover:',cloud)\n",
        "    \n",
        "    # display the image\n",
        "    display(Image(url = ee.Image(landsat_list.get(i)).getThumbUrl(parameters)))\n",
        "\n",
        "    # data to list\n",
        "    this_data = [i,date,cloud]\n",
        "\n",
        "    # append the data \n",
        "    data.append(this_data)\n",
        "    \n",
        "\n",
        "# Create the pandas DataFrame\n",
        "df = pd.DataFrame(data, columns = ['Image #', 'Date', 'Cloud Cover'])"
      ],
      "metadata": {
        "id": "fOBY2q-B_jjv"
      },
      "execution_count": null,
      "outputs": []
    },
    {
      "cell_type": "code",
      "source": [
        "threshold = df['Cloud Cover']<5"
      ],
      "metadata": {
        "id": "APNuWAUhAr1S"
      },
      "execution_count": 143,
      "outputs": []
    },
    {
      "cell_type": "code",
      "source": [
        "landsat_sequence =  list((df['Image #'][threshold].index))"
      ],
      "metadata": {
        "id": "Ja6xxzemBtsN"
      },
      "execution_count": 144,
      "outputs": []
    },
    {
      "cell_type": "code",
      "source": [
        "print(len(landsat_sequence)) # number of pictures"
      ],
      "metadata": {
        "colab": {
          "base_uri": "https://localhost:8080/"
        },
        "id": "lG7DJJhiHrtR",
        "outputId": "deb35e4f-5730-4ef4-d8d0-575b98655dea"
      },
      "execution_count": 145,
      "outputs": [
        {
          "output_type": "stream",
          "name": "stdout",
          "text": [
            "14\n"
          ]
        }
      ]
    },
    {
      "cell_type": "code",
      "source": [
        "roi = poi.buffer(20000) # meters"
      ],
      "metadata": {
        "id": "XYr4PrnnCS_g"
      },
      "execution_count": 149,
      "outputs": []
    },
    {
      "cell_type": "code",
      "source": [
        "parameters = {\n",
        "                'min': 6000,\n",
        "                'max': 16000,\n",
        "                'dimensions': 800,\n",
        "                'bands': ['SR_B4', 'SR_B3', 'SR_B2'],\n",
        "                'region':roi\n",
        "             }"
      ],
      "metadata": {
        "id": "wo5EJ9hACe8J"
      },
      "execution_count": 150,
      "outputs": []
    },
    {
      "cell_type": "code",
      "source": [
        "for i in landsat_sequence:\n",
        "    \n",
        "    # when was this image taken?\n",
        "    date = ee.Image(landsat_list.get(i)).get('DATE_ACQUIRED').getInfo()\n",
        "\n",
        "    # cloud cover\n",
        "    cloud = ee.Image(landsat_list.get(i)).get('CLOUD_COVER').getInfo()\n",
        "    \n",
        "    print('Image #',i,date,'Cloud cover:',cloud)\n",
        "    \n",
        "    display(Image(url = ee.Image(landsat_list.get(i)).getThumbUrl(parameters)))"
      ],
      "metadata": {
        "id": "Ntiz72t9Chju"
      },
      "execution_count": null,
      "outputs": []
    },
    {
      "cell_type": "code",
      "source": [
        "\"\"\"The normalized difference vegetation index (NDVI) is a simple graphical indicator that can be used to analyze remote sensing measurements,\n",
        " often from a space platform, assessing whether or not the target being observed contains live green vegetation.\"\"\""
      ],
      "metadata": {
        "id": "1R8Ys6y-NTly"
      },
      "execution_count": null,
      "outputs": []
    },
    {
      "cell_type": "code",
      "source": [
        "palette = ['red', 'yellow', 'green']\n",
        "\n",
        "ndvi_parameters = {'min': 0,\n",
        "                   'max': 0.4,\n",
        "                   'dimensions': 512,\n",
        "                   'palette': palette,\n",
        "                   'region': roi}"
      ],
      "metadata": {
        "id": "y-GwjaCHNbBa"
      },
      "execution_count": 152,
      "outputs": []
    },
    {
      "cell_type": "code",
      "source": [
        "for i in landsat_sequence:\n",
        "\n",
        "    # when was this image taken?\n",
        "    date = ee.Image(landsat_list.get(i)).get('DATE_ACQUIRED').getInfo()\n",
        "    \n",
        "    # print some information\n",
        "    print('Image #',i,date)\n",
        "    \n",
        "    # display the image\n",
        "    display(Image(url=ee.Image(landsat_list.get(i)).normalizedDifference(['SR_B5', 'SR_B4']).getThumbUrl(ndvi_parameters)))"
      ],
      "metadata": {
        "colab": {
          "base_uri": "https://localhost:8080/",
          "height": 1000
        },
        "id": "o4EjnNZ2Ni4R",
        "outputId": "28fc8e7a-15cb-42bd-b8d2-ae1aa2156c5d"
      },
      "execution_count": 153,
      "outputs": [
        {
          "output_type": "stream",
          "name": "stdout",
          "text": [
            "Image # 2 2021-06-11\n"
          ]
        },
        {
          "output_type": "display_data",
          "data": {
            "text/html": [
              "<img src=\"https://earthengine.googleapis.com/v1alpha/projects/earthengine-legacy/thumbnails/3d94ff2c35316f7b17e70c3b40e1c635-b5235c50188802e0cd5503112bd84ad1:getPixels\"/>"
            ],
            "text/plain": [
              "<IPython.core.display.Image object>"
            ]
          },
          "metadata": {}
        },
        {
          "output_type": "stream",
          "name": "stdout",
          "text": [
            "Image # 6 2021-08-14\n"
          ]
        },
        {
          "output_type": "display_data",
          "data": {
            "text/html": [
              "<img src=\"https://earthengine.googleapis.com/v1alpha/projects/earthengine-legacy/thumbnails/cc680499bc44d4ad5f751b427dc93b47-2af15af2643cba8340bbba22e4d1aade:getPixels\"/>"
            ],
            "text/plain": [
              "<IPython.core.display.Image object>"
            ]
          },
          "metadata": {}
        },
        {
          "output_type": "stream",
          "name": "stdout",
          "text": [
            "Image # 7 2021-08-30\n"
          ]
        },
        {
          "output_type": "display_data",
          "data": {
            "text/html": [
              "<img src=\"https://earthengine.googleapis.com/v1alpha/projects/earthengine-legacy/thumbnails/9e714bf98f9725ac1a0cda54d46c1845-40cb2171a876eb59bae024b8ab796238:getPixels\"/>"
            ],
            "text/plain": [
              "<IPython.core.display.Image object>"
            ]
          },
          "metadata": {}
        },
        {
          "output_type": "stream",
          "name": "stdout",
          "text": [
            "Image # 12 2021-12-04\n"
          ]
        },
        {
          "output_type": "display_data",
          "data": {
            "text/html": [
              "<img src=\"https://earthengine.googleapis.com/v1alpha/projects/earthengine-legacy/thumbnails/d43172927485227ce7a7d1b52971e558-68a6be182d7a83d8ceecebe7f8e8c9b3:getPixels\"/>"
            ],
            "text/plain": [
              "<IPython.core.display.Image object>"
            ]
          },
          "metadata": {}
        },
        {
          "output_type": "stream",
          "name": "stdout",
          "text": [
            "Image # 23 2022-05-29\n"
          ]
        },
        {
          "output_type": "display_data",
          "data": {
            "text/html": [
              "<img src=\"https://earthengine.googleapis.com/v1alpha/projects/earthengine-legacy/thumbnails/1a2191b776877c25a2128e236762a760-85d8873930a94eccd9be7c1fc33fe0eb:getPixels\"/>"
            ],
            "text/plain": [
              "<IPython.core.display.Image object>"
            ]
          },
          "metadata": {}
        },
        {
          "output_type": "stream",
          "name": "stdout",
          "text": [
            "Image # 27 2021-06-11\n"
          ]
        },
        {
          "output_type": "display_data",
          "data": {
            "text/html": [
              "<img src=\"https://earthengine.googleapis.com/v1alpha/projects/earthengine-legacy/thumbnails/eca39dc60667e7596a4467650b44b27f-d22e1093638fd028b009564977905198:getPixels\"/>"
            ],
            "text/plain": [
              "<IPython.core.display.Image object>"
            ]
          },
          "metadata": {}
        },
        {
          "output_type": "stream",
          "name": "stdout",
          "text": [
            "Image # 30 2021-07-29\n"
          ]
        },
        {
          "output_type": "display_data",
          "data": {
            "text/html": [
              "<img src=\"https://earthengine.googleapis.com/v1alpha/projects/earthengine-legacy/thumbnails/d99bcb276cac0e83a26fdc3cf6e5f725-7bf4c6d573bb839dd4ce542951c9e388:getPixels\"/>"
            ],
            "text/plain": [
              "<IPython.core.display.Image object>"
            ]
          },
          "metadata": {}
        },
        {
          "output_type": "stream",
          "name": "stdout",
          "text": [
            "Image # 31 2021-08-14\n"
          ]
        },
        {
          "output_type": "display_data",
          "data": {
            "text/html": [
              "<img src=\"https://earthengine.googleapis.com/v1alpha/projects/earthengine-legacy/thumbnails/a4739a5d6c2a919d296f6b56fcf94219-a3b4f14e04a3d675f12d37842be2936f:getPixels\"/>"
            ],
            "text/plain": [
              "<IPython.core.display.Image object>"
            ]
          },
          "metadata": {}
        },
        {
          "output_type": "stream",
          "name": "stdout",
          "text": [
            "Image # 32 2021-08-30\n"
          ]
        },
        {
          "output_type": "display_data",
          "data": {
            "text/html": [
              "<img src=\"https://earthengine.googleapis.com/v1alpha/projects/earthengine-legacy/thumbnails/d99750c6f5c49cf1808d7fa778dd6183-2a8e8ea57e6d6d26d2668ec552102668:getPixels\"/>"
            ],
            "text/plain": [
              "<IPython.core.display.Image object>"
            ]
          },
          "metadata": {}
        },
        {
          "output_type": "stream",
          "name": "stdout",
          "text": [
            "Image # 38 2021-12-04\n"
          ]
        },
        {
          "output_type": "display_data",
          "data": {
            "text/html": [
              "<img src=\"https://earthengine.googleapis.com/v1alpha/projects/earthengine-legacy/thumbnails/dc22a8c6e7b0362b599cc490838a75f3-2b8ccfbe91a97e2f59f4be3936ea8269:getPixels\"/>"
            ],
            "text/plain": [
              "<IPython.core.display.Image object>"
            ]
          },
          "metadata": {}
        },
        {
          "output_type": "stream",
          "name": "stdout",
          "text": [
            "Image # 39 2021-12-20\n"
          ]
        },
        {
          "output_type": "display_data",
          "data": {
            "text/html": [
              "<img src=\"https://earthengine.googleapis.com/v1alpha/projects/earthengine-legacy/thumbnails/fb3a17126e5289b2837ebbf2a8188afc-78ee51f297e011d1d1c280b54ea66b1e:getPixels\"/>"
            ],
            "text/plain": [
              "<IPython.core.display.Image object>"
            ]
          },
          "metadata": {}
        },
        {
          "output_type": "stream",
          "name": "stdout",
          "text": [
            "Image # 41 2022-01-21\n"
          ]
        },
        {
          "output_type": "display_data",
          "data": {
            "text/html": [
              "<img src=\"https://earthengine.googleapis.com/v1alpha/projects/earthengine-legacy/thumbnails/3f511cf858723c02556b917cb4a00354-eeb575b40de3a4a8585027d1eb5edfc5:getPixels\"/>"
            ],
            "text/plain": [
              "<IPython.core.display.Image object>"
            ]
          },
          "metadata": {}
        },
        {
          "output_type": "stream",
          "name": "stdout",
          "text": [
            "Image # 48 2022-05-13\n"
          ]
        },
        {
          "output_type": "display_data",
          "data": {
            "text/html": [
              "<img src=\"https://earthengine.googleapis.com/v1alpha/projects/earthengine-legacy/thumbnails/a0f7b2bbc1853a5d220bc5bd89319ae7-e0cd7bbd8e779e031cf9cb257743038f:getPixels\"/>"
            ],
            "text/plain": [
              "<IPython.core.display.Image object>"
            ]
          },
          "metadata": {}
        },
        {
          "output_type": "stream",
          "name": "stdout",
          "text": [
            "Image # 49 2022-05-29\n"
          ]
        },
        {
          "output_type": "display_data",
          "data": {
            "text/html": [
              "<img src=\"https://earthengine.googleapis.com/v1alpha/projects/earthengine-legacy/thumbnails/be11ea75c5a531174dd54f72647f9bc5-f12293e8265e95cb822b9aca1d82b2b4:getPixels\"/>"
            ],
            "text/plain": [
              "<IPython.core.display.Image object>"
            ]
          },
          "metadata": {}
        }
      ]
    },
    {
      "cell_type": "code",
      "source": [
        "import folium\n",
        "\n",
        "m = folium.Map(location=[lat,lon])"
      ],
      "metadata": {
        "id": "gRLhqr1-N1sU"
      },
      "execution_count": 154,
      "outputs": []
    },
    {
      "cell_type": "code",
      "source": [
        "# Google function that allows ee layers on folium\n",
        "def add_ee_layer(self, ee_image_object, vis_params, name):\n",
        "    \"\"\"Adds a method for displaying Earth Engine image tiles to folium map.\"\"\"\n",
        "    map_id_dict = ee.Image(ee_image_object).getMapId(vis_params)\n",
        "    folium.raster_layers.TileLayer(\n",
        "        tiles=map_id_dict['tile_fetcher'].url_format,\n",
        "        attr='Map Data © Google Earth Engine',\n",
        "        name=name,\n",
        "        overlay=True,\n",
        "        control=True\n",
        "    ).add_to(self)\n",
        "\n",
        "# Add Earth Engine drawing method to folium\n",
        "folium.Map.add_ee_layer = add_ee_layer"
      ],
      "metadata": {
        "id": "skjiJqJuN2_r"
      },
      "execution_count": 155,
      "outputs": []
    },
    {
      "cell_type": "code",
      "source": [
        "my_map.save('camp.html')"
      ],
      "metadata": {
        "id": "b4vHA4HFO2ca"
      },
      "execution_count": 157,
      "outputs": []
    }
  ]
}